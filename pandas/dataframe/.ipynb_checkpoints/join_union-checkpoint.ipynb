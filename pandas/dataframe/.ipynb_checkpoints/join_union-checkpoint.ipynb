{
 "cells": [
  {
   "cell_type": "code",
   "execution_count": 1,
   "metadata": {
    "collapsed": true
   },
   "outputs": [],
   "source": [
    "%load_ext autoreload\n",
    "%autoreload 2"
   ]
  },
  {
   "cell_type": "code",
   "execution_count": 2,
   "metadata": {
    "collapsed": true
   },
   "outputs": [],
   "source": [
    "import numpy as np\n",
    "import pandas as pd"
   ]
  },
  {
   "cell_type": "code",
   "execution_count": 3,
   "metadata": {
    "collapsed": false
   },
   "outputs": [
    {
     "name": "stdout",
     "output_type": "stream",
     "text": [
      "   running_time                     title  year\n",
      "0           118  The Silence of the Lambs  1991\n",
      "1           106        The Usual Suspects  1995\n",
      "2           119        American History X  1998\n",
      "3           177             The Godfather  1972\n",
      "4           179   The Wolf of Wall Street  2013\n",
      "5            31                 Kung Fury  2015\n",
      "6            91                 Dead Snow  2009 \n",
      "\n"
     ]
    }
   ],
   "source": [
    "df = pd.read_csv('data.csv')\n",
    "print(df, '\\n')"
   ]
  },
  {
   "cell_type": "code",
   "execution_count": 4,
   "metadata": {
    "collapsed": false
   },
   "outputs": [
    {
     "name": "stdout",
     "output_type": "stream",
     "text": [
      "   running_time                    title  year\n",
      "0           100  Dead Snow: Red vs. Dead  2014\n",
      "1            91                Dead Snow  2009\n"
     ]
    }
   ],
   "source": [
    "df2 = pd.DataFrame([{'running_time': 100, 'title': 'Dead Snow: Red vs. Dead', 'year': 2014}, \\\n",
    "                    {'running_time': 91, 'title': 'Dead Snow', 'year': 2009}])\n",
    "print(df2)"
   ]
  },
  {
   "cell_type": "code",
   "execution_count": 5,
   "metadata": {
    "collapsed": false
   },
   "outputs": [
    {
     "name": "stdout",
     "output_type": "stream",
     "text": [
      "   running_time                     title  year\n",
      "0           118  The Silence of the Lambs  1991\n",
      "1           106        The Usual Suspects  1995\n",
      "2           119        American History X  1998\n",
      "3           177             The Godfather  1972\n",
      "4           179   The Wolf of Wall Street  2013\n",
      "5            31                 Kung Fury  2015\n",
      "6            91                 Dead Snow  2009\n",
      "0           100   Dead Snow: Red vs. Dead  2014\n",
      "1            91                 Dead Snow  2009\n"
     ]
    }
   ],
   "source": [
    "#add row/rows\n",
    "df_temp = pd.concat([df, df2])\n",
    "print(df_temp)"
   ]
  },
  {
   "cell_type": "code",
   "execution_count": 6,
   "metadata": {
    "collapsed": false
   },
   "outputs": [
    {
     "name": "stdout",
     "output_type": "stream",
     "text": [
      "   running_time                     title  year\n",
      "0           118  The Silence of the Lambs  1991\n",
      "1           106        The Usual Suspects  1995\n",
      "2           119        American History X  1998\n",
      "3           177             The Godfather  1972\n",
      "4           179   The Wolf of Wall Street  2013\n",
      "5            31                 Kung Fury  2015\n",
      "6            91                 Dead Snow  2009\n",
      "7           100   Dead Snow: Red vs. Dead  2014\n",
      "8            91                 Dead Snow  2009\n"
     ]
    }
   ],
   "source": [
    "#renew index\n",
    "df_temp = pd.concat([df, df2], ignore_index = True)\n",
    "print(df_temp)"
   ]
  },
  {
   "cell_type": "code",
   "execution_count": 7,
   "metadata": {
    "collapsed": false
   },
   "outputs": [
    {
     "name": "stdout",
     "output_type": "stream",
     "text": [
      "   running_time                     title  year\n",
      "0           118  The Silence of the Lambs  1991\n",
      "1           106        The Usual Suspects  1995\n",
      "2           119        American History X  1998\n",
      "3           177             The Godfather  1972\n",
      "4           179   The Wolf of Wall Street  2013\n",
      "5            31                 Kung Fury  2015\n",
      "6            91                 Dead Snow  2009\n",
      "7           100   Dead Snow: Red vs. Dead  2014\n"
     ]
    }
   ],
   "source": [
    "#drop duplicates\n",
    "df_temp = pd.concat([df, df2]).drop_duplicates().reset_index(drop=True)\n",
    "print(df_temp)\n",
    "df = df_temp\n",
    "\n",
    "#also have a look at df.append()"
   ]
  },
  {
   "cell_type": "code",
   "execution_count": 8,
   "metadata": {
    "collapsed": false
   },
   "outputs": [
    {
     "name": "stdout",
     "output_type": "stream",
     "text": [
      "   running_time                     title  year  running_time_dif\n",
      "0           118  The Silence of the Lambs  1991             2.875\n",
      "1           106        The Usual Suspects  1995            -9.125\n",
      "2           119        American History X  1998             3.875\n",
      "3           177             The Godfather  1972            61.875\n",
      "4           179   The Wolf of Wall Street  2013            63.875\n",
      "5            31                 Kung Fury  2015           -84.125\n",
      "6            91                 Dead Snow  2009           -24.125\n",
      "7           100   Dead Snow: Red vs. Dead  2014           -15.125\n"
     ]
    }
   ],
   "source": [
    "#add column\n",
    "df.loc[:,'running_time_dif'] = df.running_time - np.average(df.running_time)\n",
    "print(df)\n",
    "#for multiple columns (for example 2 dataframes) concat has an axis parameter"
   ]
  },
  {
   "cell_type": "code",
   "execution_count": 9,
   "metadata": {
    "collapsed": false
   },
   "outputs": [
    {
     "name": "stdout",
     "output_type": "stream",
     "text": [
      "        director               title\n",
      "0  Tommy Wirkola           Dead Snow\n",
      "1   Bryan Singer  The Usual Suspects\n"
     ]
    }
   ],
   "source": [
    "#join\n",
    "df_join = pd.DataFrame({'title': ['Dead Snow', 'The Usual Suspects'], 'director': ['Tommy Wirkola', 'Bryan Singer']})\n",
    "print(df_join)"
   ]
  },
  {
   "cell_type": "code",
   "execution_count": 10,
   "metadata": {
    "collapsed": false
   },
   "outputs": [
    {
     "name": "stdout",
     "output_type": "stream",
     "text": [
      "   running_time               title  year  running_time_dif       director\n",
      "0           106  The Usual Suspects  1995            -9.125   Bryan Singer\n",
      "1            91           Dead Snow  2009           -24.125  Tommy Wirkola\n"
     ]
    }
   ],
   "source": [
    "#inner join as default\n",
    "print(pd.merge(df, df_join))"
   ]
  },
  {
   "cell_type": "code",
   "execution_count": 11,
   "metadata": {
    "collapsed": false
   },
   "outputs": [
    {
     "name": "stdout",
     "output_type": "stream",
     "text": [
      "   running_time                     title  year  running_time_dif  \\\n",
      "0           118  The Silence of the Lambs  1991             2.875   \n",
      "1           106        The Usual Suspects  1995            -9.125   \n",
      "2           119        American History X  1998             3.875   \n",
      "3           177             The Godfather  1972            61.875   \n",
      "4           179   The Wolf of Wall Street  2013            63.875   \n",
      "5            31                 Kung Fury  2015           -84.125   \n",
      "6            91                 Dead Snow  2009           -24.125   \n",
      "7           100   Dead Snow: Red vs. Dead  2014           -15.125   \n",
      "\n",
      "        director  \n",
      "0            NaN  \n",
      "1   Bryan Singer  \n",
      "2            NaN  \n",
      "3            NaN  \n",
      "4            NaN  \n",
      "5            NaN  \n",
      "6  Tommy Wirkola  \n",
      "7            NaN  \n"
     ]
    }
   ],
   "source": [
    "#outer join\n",
    "print(pd.merge(df, df_join, how = 'outer'))\n",
    "#also here many more parameters"
   ]
  }
 ],
 "metadata": {
  "kernelspec": {
   "display_name": "Python 3",
   "language": "python",
   "name": "python3"
  },
  "language_info": {
   "codemirror_mode": {
    "name": "ipython",
    "version": 3
   },
   "file_extension": ".py",
   "mimetype": "text/x-python",
   "name": "python",
   "nbconvert_exporter": "python",
   "pygments_lexer": "ipython3",
   "version": "3.4.3"
  }
 },
 "nbformat": 4,
 "nbformat_minor": 1
}
