{
 "cells": [
  {
   "cell_type": "code",
   "execution_count": 1,
   "metadata": {
    "collapsed": true
   },
   "outputs": [],
   "source": [
    "%load_ext autoreload\n",
    "%autoreload 2"
   ]
  },
  {
   "cell_type": "code",
   "execution_count": 2,
   "metadata": {
    "collapsed": true
   },
   "outputs": [],
   "source": [
    "import numpy as np\n",
    "import pandas as pd"
   ]
  },
  {
   "cell_type": "code",
   "execution_count": 8,
   "metadata": {
    "collapsed": true
   },
   "outputs": [],
   "source": [
    "l1 = ['a', 'b', 'c', 'd']\n",
    "l2 = [1, 2, 3, 4]\n",
    "a1 = np.array(l1)\n",
    "a2 = np.array(l2)\n",
    "s1 = pd.Series(a1)\n",
    "s2 = pd.Series(a2)"
   ]
  },
  {
   "cell_type": "code",
   "execution_count": 15,
   "metadata": {
    "collapsed": false
   },
   "outputs": [
    {
     "name": "stdout",
     "output_type": "stream",
     "text": [
      "  column1  column2\n",
      "0       a        1\n",
      "1       b        2\n",
      "2       c        3\n",
      "3       d        4\n",
      "  column1  column2\n",
      "0       a        1\n",
      "1       b        2\n",
      "2       c        3\n",
      "3       d        4\n",
      "  column1  column2\n",
      "0       a        1\n",
      "1       b        2\n",
      "2       c        3\n",
      "3       d        4\n",
      "  column1  column2\n",
      "0       a        1\n",
      "1       b        2\n",
      "2       c        3\n",
      "3       d        4\n"
     ]
    }
   ],
   "source": [
    "#construct dataframe from dictionary of lists\n",
    "df1 = pd.DataFrame({'column1': l1, 'column2': l2})\n",
    "\n",
    "#construct dataframe from dictionary of arrays\n",
    "df2 = pd.DataFrame({'column1': a1, 'column2': a2})\n",
    "\n",
    "#construct dataframe from dictionary of pandas Series\n",
    "df3 = pd.DataFrame({'column1': s1, 'column2': s2})\n",
    "\n",
    "#construct dataframe from list of dictionary (line, by line)\n",
    "df4 = pd.DataFrame([{'column1': 'a', 'column2': 1}, {'column1': 'b', 'column2': 2}, {'column1': 'c', 'column2': 3}, {'column1': 'd', 'column2': 4}])\n",
    "\n",
    "print(df1)\n",
    "print(df2)\n",
    "print(df3)\n",
    "print(df4)"
   ]
  },
  {
   "cell_type": "code",
   "execution_count": 31,
   "metadata": {
    "collapsed": false
   },
   "outputs": [
    {
     "name": "stdout",
     "output_type": "stream",
     "text": [
      "(4, 2)\n",
      "column1    object\n",
      "column2     int64\n",
      "dtype: object\n",
      "['column1' 'column2']\n"
     ]
    }
   ],
   "source": [
    "#(row, columns)\n",
    "print(df1.shape)\n",
    "\n",
    "#data types\n",
    "print(df1.dtypes)\n",
    "\n",
    "#list of columns (equivalent df1.index.values for rows)\n",
    "print(df1.columns.values)"
   ]
  },
  {
   "cell_type": "code",
   "execution_count": 17,
   "metadata": {
    "collapsed": false
   },
   "outputs": [
    {
     "name": "stdout",
     "output_type": "stream",
     "text": [
      "   running_time                     title  year\n",
      "0           118  The Silence of the Lambs  1991\n",
      "1           106        The Usual Suspects  1995\n",
      "2           119        American History X  1998\n",
      "3           177             The Godfather  1972\n",
      "4           179   The Wolf of Wall Street  2013\n",
      "5            31                 Kung Fury  2015\n",
      "6            91                 Dead Snow  2009\n"
     ]
    }
   ],
   "source": [
    "#many possible parameters \n",
    "data = pd.read_csv('data.csv')\n",
    "\n",
    "data.to_csv('data.csv', index=False)\n",
    "\n",
    "print(data)"
   ]
  },
  {
   "cell_type": "code",
   "execution_count": null,
   "metadata": {
    "collapsed": true
   },
   "outputs": [],
   "source": []
  }
 ],
 "metadata": {
  "kernelspec": {
   "display_name": "Python 3",
   "language": "python",
   "name": "python3"
  },
  "language_info": {
   "codemirror_mode": {
    "name": "ipython",
    "version": 3
   },
   "file_extension": ".py",
   "mimetype": "text/x-python",
   "name": "python",
   "nbconvert_exporter": "python",
   "pygments_lexer": "ipython3",
   "version": "3.4.3"
  }
 },
 "nbformat": 4,
 "nbformat_minor": 1
}
