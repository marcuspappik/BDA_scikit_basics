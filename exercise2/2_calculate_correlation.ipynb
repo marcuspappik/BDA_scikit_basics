{
 "cells": [
  {
   "cell_type": "code",
   "execution_count": 1,
   "metadata": {
    "collapsed": false
   },
   "outputs": [],
   "source": [
    "%load_ext autoreload\n",
    "%autoreload 2"
   ]
  },
  {
   "cell_type": "code",
   "execution_count": 2,
   "metadata": {
    "collapsed": true
   },
   "outputs": [],
   "source": [
    "import pandas as pd\n",
    "import numpy as np\n",
    "from sklearn.feature_selection import chi2\n",
    "import matplotlib.pyplot as plt\n",
    "from scipy.stats import pearsonr"
   ]
  },
  {
   "cell_type": "code",
   "execution_count": 3,
   "metadata": {
    "collapsed": false
   },
   "outputs": [],
   "source": [
    "#load data and specify what to do with which feature\n",
    "data = pd.read_csv('data/added_features.csv', sep = ';')\n",
    "\n",
    "pearson_X = ['totalSaving', 'customerReturnProbability', 'totalOrderPrice', 'minMaxSpanPrice']\n",
    "chi2_X = ['hasVoucher', 'modeQuantity', 'monthOfYear', 'sameArticleInOrder']\n",
    "\n",
    "Y = 'returnQuantity'"
   ]
  },
  {
   "cell_type": "code",
   "execution_count": 4,
   "metadata": {
    "collapsed": false
   },
   "outputs": [],
   "source": [
    "#just to be sure that everything is fine with the data\n",
    "for c in pearson_X + chi2_X:\n",
    "    if not np.all(np.isfinite(data[c])):\n",
    "        print('isfinit', c, data.loc[np.logical_not(np.isfinite(data[c])),:].shape)\n",
    "\n",
    "for c in pearson_X + chi2_X:\n",
    "    if np.any(np.isnan(data[c])):\n",
    "        print('nan', c, data.loc[np.isnan(data[c] < 0),:].shape)\n",
    "\n",
    "for c in chi2_X:\n",
    "    if np.any(data[c] < 0):\n",
    "        print('less than 0', c, data.loc[data[c] < 0,:].shape)"
   ]
  },
  {
   "cell_type": "code",
   "execution_count": 6,
   "metadata": {
    "collapsed": false
   },
   "outputs": [
    {
     "name": "stdout",
     "output_type": "stream",
     "text": [
      "hasVoucher 55.6491335877 9.59723196324e-11\n",
      "modeQuantity 4511.37887679 0.0\n",
      "monthOfYear 977.271526293 5.0044756554e-209\n",
      "sameArticleInOrder 33461.5135355 0.0\n"
     ]
    }
   ],
   "source": [
    "#apply chi2 statistic and print result + p-values (looks pretty bad)\n",
    "chi = chi2(data[chi2_X], data[Y])\n",
    "\n",
    "for i in range(len(chi2_X)):\n",
    "    print(chi2_X[i], chi[0][i], chi[1][i])"
   ]
  },
  {
   "cell_type": "code",
   "execution_count": 7,
   "metadata": {
    "collapsed": false
   },
   "outputs": [
    {
     "name": "stdout",
     "output_type": "stream",
     "text": [
      "totalSaving 0.0224059372123 7.38835083983e-256\n",
      "customerReturnProbability 0.5625147583 0.0\n",
      "totalOrderPrice 0.221040954709 0.0\n",
      "minMaxSpanPrice 0.0803169347377 0.0\n"
     ]
    }
   ],
   "source": [
    "#apply pearson and print result + p-values\n",
    "for c in pearson_X:   \n",
    "    print(c, pearsonr(data[c], data[Y])[0],  pearsonr(data[c], data[Y])[1])"
   ]
  },
  {
   "cell_type": "code",
   "execution_count": null,
   "metadata": {
    "collapsed": false
   },
   "outputs": [],
   "source": []
  }
 ],
 "metadata": {
  "kernelspec": {
   "display_name": "Python 2",
   "language": "python",
   "name": "python2"
  },
  "language_info": {
   "codemirror_mode": {
    "name": "ipython",
    "version": 2
   },
   "file_extension": ".py",
   "mimetype": "text/x-python",
   "name": "python",
   "nbconvert_exporter": "python",
   "pygments_lexer": "ipython2",
   "version": "2.7.6"
  }
 },
 "nbformat": 4,
 "nbformat_minor": 1
}
