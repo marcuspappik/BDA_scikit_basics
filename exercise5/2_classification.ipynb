{
 "cells": [
  {
   "cell_type": "code",
   "execution_count": 2,
   "metadata": {
    "collapsed": false
   },
   "outputs": [],
   "source": [
    "import numpy as np\n",
    "import pandas as pd\n",
    "from sklearn import tree\n",
    "from sklearn.naive_bayes import GaussianNB\n",
    "from sklearn.neighbors import KNeighborsClassifier\n",
    "from sklearn import preprocessing\n",
    "from sklearn.metrics import roc_curve, auc\n",
    "import matplotlib.pyplot as plt\n",
    "import matplotlib.cm as cm"
   ]
  },
  {
   "cell_type": "code",
   "execution_count": 37,
   "metadata": {
    "collapsed": false
   },
   "outputs": [],
   "source": [
    "def label_encoding(train, test, cols):\n",
    "    enc = preprocessing.LabelEncoder()\n",
    "    data = pd.concat([train, test]).reset_index()\n",
    "    for c in cols:\n",
    "        enc.fit(np.unique(data[c]))\n",
    "        test[c] = enc.transform(test[c])\n",
    "        train[c] = enc.transform(train[c])\n",
    "    return train, test\n",
    "\n",
    "\n",
    "def one_hot_encoding(train, test, cols):\n",
    "    data = pd.concat([train, test]).reset_index()\n",
    "    data = pd.get_dummies(data, columns=cols, prefix=cols)\n",
    "    data.drop('index', axis=1, inplace=True)\n",
    "    return data.loc[0 : train.shape[0], : ], data.loc[train.shape[0] : train.shape[0]+test.shape[0], : ]\n",
    "    \n",
    "    \n",
    "def print_scoring(clf, testX, testY, name):\n",
    "    prediction = clf.predict(testX)\n",
    "    ac = np.sum(prediction == testY)/testY.shape[0]\n",
    "    tpr = np.sum(np.logical_and(prediction == 1, testY == 1))/np.sum(testY == 1)\n",
    "    fpr = np.sum(np.logical_and(prediction == 1, testY == 0))/np.sum(testY == 0)\n",
    "    tnr = np.sum(np.logical_and(prediction == 0, testY == 0))/np.sum(testY == 0)\n",
    "    fnr = np.sum(np.logical_and(prediction == 0, testY == 1))/np.sum(testY == 1)\n",
    "    print('accuracy', name + ': ', ac)\n",
    "    print('true-positive-rate: ', tpr)\n",
    "    print('false-positive-rate: ', fpr)\n",
    "    print('true-negative-rate: ', tnr)\n",
    "    print('false-negative-rate: ', fnr)\n",
    "    print('')"
   ]
  },
  {
   "cell_type": "code",
   "execution_count": 38,
   "metadata": {
    "collapsed": false
   },
   "outputs": [],
   "source": [
    "test = pd.read_csv('data/adult_test.csv', sep=',', na_values = ['?'])\n",
    "train = data = pd.read_csv('data/adult_train.csv', sep=',', na_values = ['?'])"
   ]
  },
  {
   "cell_type": "code",
   "execution_count": 39,
   "metadata": {
    "collapsed": false
   },
   "outputs": [
    {
     "name": "stdout",
     "output_type": "stream",
     "text": [
      "(32561, 15)\n"
     ]
    }
   ],
   "source": [
    "print(train.shape)"
   ]
  },
  {
   "cell_type": "code",
   "execution_count": 40,
   "metadata": {
    "collapsed": false
   },
   "outputs": [
    {
     "name": "stdout",
     "output_type": "stream",
     "text": [
      "(30162, 15)\n"
     ]
    }
   ],
   "source": [
    "#drop null values\n",
    "train = train.dropna().reset_index(drop=True)\n",
    "print(train.shape)"
   ]
  },
  {
   "cell_type": "code",
   "execution_count": 41,
   "metadata": {
    "collapsed": false
   },
   "outputs": [],
   "source": [
    "bin_col = ['sex', 'income']\n",
    "cat_col = ['workclass', 'education', 'marital-status', 'occupation', 'relationship', 'race', 'native-country']\n",
    "\n",
    "#encoding\n",
    "train, test = label_encoding(train, test, bin_col)\n",
    "train, test = one_hot_encoding(train, test, cat_col)"
   ]
  },
  {
   "cell_type": "code",
   "execution_count": 42,
   "metadata": {
    "collapsed": true
   },
   "outputs": [],
   "source": [
    "#drop meaningless columns\n",
    "trainX = train.drop(['income', 'fnlwgt'], axis=1)\n",
    "trainY = train.income\n",
    "testX = test.drop(['income', 'fnlwgt'], axis=1)\n",
    "testY = test.income"
   ]
  },
  {
   "cell_type": "code",
   "execution_count": 43,
   "metadata": {
    "collapsed": false
   },
   "outputs": [],
   "source": [
    "#train classifier on train data\n",
    "tree_clf = tree.DecisionTreeClassifier().fit(trainX, trainY)\n",
    "gaus_clf = GaussianNB().fit(trainX, trainY)\n",
    "knn_clf = KNeighborsClassifier(10).fit(trainX, trainY)"
   ]
  },
  {
   "cell_type": "code",
   "execution_count": 44,
   "metadata": {
    "collapsed": false
   },
   "outputs": [
    {
     "name": "stdout",
     "output_type": "stream",
     "text": [
      "accuracy tree :  0.81235059761\n",
      "true-positive-rate:  0.605405405405\n",
      "false-positive-rate:  0.120246478873\n",
      "true-negative-rate:  0.879753521127\n",
      "false-negative-rate:  0.394594594595\n",
      "\n",
      "accuracy gaus :  0.809561752988\n",
      "true-positive-rate:  0.799189189189\n",
      "false-positive-rate:  0.187059859155\n",
      "true-negative-rate:  0.812940140845\n",
      "false-negative-rate:  0.200810810811\n",
      "\n",
      "accuracy knn :  0.849535192563\n",
      "true-positive-rate:  0.589189189189\n",
      "false-positive-rate:  0.0656690140845\n",
      "true-negative-rate:  0.934330985915\n",
      "false-negative-rate:  0.410810810811\n",
      "\n"
     ]
    }
   ],
   "source": [
    "#compare results on test data\n",
    "print_scoring(tree_clf, testX, testY, 'tree ')\n",
    "print_scoring(gaus_clf, testX, testY, 'gaus ')\n",
    "print_scoring(knn_clf, testX, testY, 'knn ')"
   ]
  },
  {
   "cell_type": "code",
   "execution_count": null,
   "metadata": {
    "collapsed": true
   },
   "outputs": [],
   "source": []
  }
 ],
 "metadata": {
  "kernelspec": {
   "display_name": "Python 3",
   "language": "python",
   "name": "python3"
  },
  "language_info": {
   "codemirror_mode": {
    "name": "ipython",
    "version": 3
   },
   "file_extension": ".py",
   "mimetype": "text/x-python",
   "name": "python",
   "nbconvert_exporter": "python",
   "pygments_lexer": "ipython3",
   "version": "3.4.3"
  }
 },
 "nbformat": 4,
 "nbformat_minor": 1
}
