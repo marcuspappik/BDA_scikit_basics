{
 "cells": [
  {
   "cell_type": "code",
   "execution_count": 2,
   "metadata": {
    "collapsed": false
   },
   "outputs": [],
   "source": [
    "import numpy as np\n",
    "import pandas as pd\n",
    "from sklearn.tree import DecisionTreeClassifier\n",
    "from sklearn.naive_bayes import GaussianNB\n",
    "from sklearn.neighbors import KNeighborsClassifier\n",
    "from sklearn import preprocessing\n",
    "from sklearn.metrics import roc_curve, auc\n",
    "import matplotlib.pyplot as plt\n",
    "from scipy import stats\n",
    "from my_classifier.my_classifier import my_classifier, my_classifier2"
   ]
  },
  {
   "cell_type": "code",
   "execution_count": 3,
   "metadata": {
    "collapsed": true
   },
   "outputs": [],
   "source": [
    "def label_encoding(train, test, cols):\n",
    "    enc = preprocessing.LabelEncoder()\n",
    "    data = pd.concat([train, test]).reset_index()\n",
    "    for c in cols:\n",
    "        enc.fit(np.unique(data[c]))\n",
    "        test[c] = enc.transform(test[c])\n",
    "        train[c] = enc.transform(train[c])\n",
    "    return train, test\n",
    "\n",
    "def one_hot_encoding(train, test, cols):\n",
    "    data = pd.concat([train, test]).reset_index()\n",
    "    data = pd.get_dummies(data, columns=cols, prefix=cols)\n",
    "    data.drop('index', axis=1, inplace=True)\n",
    "    return data.loc[0 : train.shape[0], : ], data.loc[train.shape[0] : train.shape[0]+test.shape[0], : ]"
   ]
  },
  {
   "cell_type": "code",
   "execution_count": 4,
   "metadata": {
    "collapsed": true
   },
   "outputs": [],
   "source": [
    "def print_scoring(prediction, testY, name, threshold = 0.5):\n",
    "    res = prediction >= threshold\n",
    "    ac = np.sum(res == testY)/testY.shape[0]\n",
    "    tpr = np.sum(np.logical_and(res == 1, testY == 1))/np.sum(testY == 1)\n",
    "    fpr = np.sum(np.logical_and(res == 1, testY == 0))/np.sum(testY == 0)\n",
    "    tnr = np.sum(np.logical_and(res == 0, testY == 0))/np.sum(testY == 0)\n",
    "    fnr = np.sum(np.logical_and(res == 0, testY == 1))/np.sum(testY == 1)\n",
    "    print('accuracy', name + ': ', ac)\n",
    "    print('true-positive-rate: ', tpr)\n",
    "    print('false-positive-rate: ', fpr)\n",
    "    print('true-negative-rate: ', tnr)\n",
    "    print('false-negative-rate: ', fnr)\n",
    "    print('')\n"
   ]
  },
  {
   "cell_type": "code",
   "execution_count": 7,
   "metadata": {
    "collapsed": true
   },
   "outputs": [],
   "source": [
    "def max_thres(tprs, fprs, thresholds):\n",
    "    dist = (tprs - fprs)\n",
    "    return thresholds[dist==np.amax(dist)][0]\n",
    "\n",
    "def max_j_value(tprs, fprs, thresholds):\n",
    "    dist = (tprs - fprs)\n",
    "    return np.amax(dist)\n",
    "    "
   ]
  },
  {
   "cell_type": "code",
   "execution_count": 10,
   "metadata": {
    "collapsed": false
   },
   "outputs": [],
   "source": [
    "#prepare data\n",
    "test = pd.read_csv('data/adult_test.csv', sep=',', na_values = ['?'])\n",
    "train = data = pd.read_csv('data/adult_train.csv', sep=',', na_values = ['?'])\n",
    "train = train.dropna().reset_index(drop=True)\n",
    "\n",
    "bin_col = ['sex', 'income']\n",
    "cat_col = ['workclass', 'education', 'marital-status', 'occupation', 'relationship', 'race', 'native-country']\n",
    "train, test = label_encoding(train, test, bin_col)\n",
    "train, test = one_hot_encoding(train, test, cat_col)\n",
    "\n",
    "trainX = train.drop(['income', 'fnlwgt'], axis=1)\n",
    "trainY = train.income\n",
    "testX = test.drop(['income', 'fnlwgt'], axis=1)\n",
    "testY = test.income"
   ]
  },
  {
   "cell_type": "code",
   "execution_count": 11,
   "metadata": {
    "collapsed": false
   },
   "outputs": [],
   "source": [
    "#train classifiers\n",
    "clf = DecisionTreeClassifier(max_depth=5).fit(trainX, trainY)\n",
    "my_clf = my_classifier2().fit(trainX, trainY)"
   ]
  },
  {
   "cell_type": "code",
   "execution_count": 12,
   "metadata": {
    "collapsed": false
   },
   "outputs": [
    {
     "name": "stdout",
     "output_type": "stream",
     "text": [
      "clf 0.840637450199\n",
      "tpr 0.491621621622\n",
      "fpr 0.0456866197183\n",
      "tnr 0.954313380282\n",
      "fnr 0.508378378378\n",
      "\n",
      "my 0.754316069057\n",
      "tpr 0.0\n",
      "fpr 0.0\n",
      "tnr 1.0\n",
      "fnr 1.0\n",
      "\n"
     ]
    }
   ],
   "source": [
    "#print interesting scores\n",
    "print_scoring(clf.predict(testX), testY, 'clf')\n",
    "print_scoring(my_clf.predict(testX), testY, 'my')"
   ]
  },
  {
   "cell_type": "code",
   "execution_count": 14,
   "metadata": {
    "collapsed": false
   },
   "outputs": [
    {
     "data": {
      "image/png": "[encoded data removed]",
      "text/plain": [
       "<matplotlib.figure.Figure at 0x7f88bf8ca438>"
      ]
     },
     "metadata": {},
     "output_type": "display_data"
    },
    {
     "name": "stdout",
     "output_type": "stream",
     "text": [
      "auc:  0.88472845689\n",
      "my auc:  0.496946445565\n"
     ]
    }
   ],
   "source": [
    "#plot roc curve and area-under-curve\n",
    "roc = roc_curve(testY, clf.predict_proba(testX)[:, 1], pos_label=1)\n",
    "my_roc = roc_curve(testY, my_clf.predict_proba(testX)[:, 1], pos_label=1)\n",
    "\n",
    "plt.plot(roc[0], roc[1], 'b-')\n",
    "plt.plot(my_roc[0], my_roc[1], 'g-')\n",
    "plt.show()\n",
    "\n",
    "print('area-under-curve: ', auc(roc[0], roc[1]))\n",
    "print('my_classifier area-under-curve: : ', auc(my_roc[0], my_roc[1]))"
   ]
  },
  {
   "cell_type": "code",
   "execution_count": 16,
   "metadata": {
    "collapsed": false
   },
   "outputs": [
    {
     "name": "stdout",
     "output_type": "stream",
     "text": [
      "max j-score:  0.606202417206\n",
      "max j-score my:  0.00665350209364\n"
     ]
    }
   ],
   "source": [
    "#j-scores\n",
    "print('max j-score: ', max_j_value(roc[1], roc[0], roc[2]))\n",
    "print('max j-score my: ', max_j_value(my_roc[1], my_roc[0], my_roc[2]))"
   ]
  },
  {
   "cell_type": "code",
   "execution_count": 18,
   "metadata": {
    "collapsed": false
   },
   "outputs": [
    {
     "name": "stdout",
     "output_type": "stream",
     "text": [
      "negativ\n"
     ]
    },
    {
     "data": {
      "image/png": "[encoded data removed]",
      "text/plain": [
       "<matplotlib.figure.Figure at 0x7f88bf8ca240>"
      ]
     },
     "metadata": {},
     "output_type": "display_data"
    },
    {
     "name": "stdout",
     "output_type": "stream",
     "text": [
      "positiv\n"
     ]
    },
    {
     "data": {
      "image/png": "[encoded data removed]",
      "text/plain": [
       "<matplotlib.figure.Figure at 0x7f88bd6060b8>"
      ]
     },
     "metadata": {},
     "output_type": "display_data"
    }
   ],
   "source": [
    "#plot output distribution for negative and positive samples for my_classifier\n",
    "res = my_clf.predict_proba(testX)[:,1]\n",
    "res_p = res[np.bool_(testY==1)]\n",
    "res_n = res[np.bool_(testY==0)]\n",
    "\n",
    "print('negativ')\n",
    "plt.hist(x=res_n, bins=50, normed=True)\n",
    "plt.xlim([0, 1])\n",
    "plt.show()\n",
    "\n",
    "print('positiv')\n",
    "plt.hist(x=res_p, bins=50, normed=1)\n",
    "plt.xlim([0, 1])\n",
    "plt.show()"
   ]
  },
  {
   "cell_type": "code",
   "execution_count": 15,
   "metadata": {
    "collapsed": false
   },
   "outputs": [
    {
     "name": "stdout",
     "output_type": "stream",
     "text": [
      "negativ\n"
     ]
    },
    {
     "data": {
      "image/png": "[encoded data removed]",
      "text/plain": [
       "<matplotlib.figure.Figure at 0x7fa583a8f518>"
      ]
     },
     "metadata": {},
     "output_type": "display_data"
    },
    {
     "name": "stdout",
     "output_type": "stream",
     "text": [
      "positiv\n"
     ]
    },
    {
     "data": {
      "image/png": "[encoded data removed]",
      "text/plain": [
       "<matplotlib.figure.Figure at 0x7fa5819e9518>"
      ]
     },
     "metadata": {},
     "output_type": "display_data"
    }
   ],
   "source": [
    "#plot output distribution for negative and positive samples for real classifier\n",
    "res = clf.predict_proba(testX)[:,1]\n",
    "res_p = res[np.bool_(testY==1)]\n",
    "res_n = res[np.bool_(testY==0)]\n",
    "\n",
    "print('negativ')\n",
    "plt.hist(x=res_n, bins=50, normed=True)\n",
    "plt.xlim([0, 1])\n",
    "plt.show()\n",
    "\n",
    "print('positiv')\n",
    "plt.hist(x=res_p, bins=50, normed=True)\n",
    "plt.xlim([0, 1])\n",
    "plt.show()"
   ]
  },
  {
   "cell_type": "code",
   "execution_count": null,
   "metadata": {
    "collapsed": true
   },
   "outputs": [],
   "source": []
  }
 ],
 "metadata": {
  "kernelspec": {
   "display_name": "Python 3",
   "language": "python",
   "name": "python3"
  },
  "language_info": {
   "codemirror_mode": {
    "name": "ipython",
    "version": 3
   },
   "file_extension": ".py",
   "mimetype": "text/x-python",
   "name": "python",
   "nbconvert_exporter": "python",
   "pygments_lexer": "ipython3",
   "version": "3.4.3"
  }
 },
 "nbformat": 4,
 "nbformat_minor": 1
}
